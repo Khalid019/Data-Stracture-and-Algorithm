{
  "nbformat": 4,
  "nbformat_minor": 0,
  "metadata": {
    "colab": {
      "provenance": [],
      "authorship_tag": "ABX9TyMvOTal/cWK7YHhvddxasG9",
      "include_colab_link": true
    },
    "kernelspec": {
      "name": "python3",
      "display_name": "Python 3"
    },
    "language_info": {
      "name": "python"
    }
  },
  "cells": [
    {
      "cell_type": "markdown",
      "metadata": {
        "id": "view-in-github",
        "colab_type": "text"
      },
      "source": [
        "<a href=\"https://colab.research.google.com/github/Khalid019/Data-Stracture-and-Algorithm/blob/main/LinearSearch.ipynb\" target=\"_parent\"><img src=\"https://colab.research.google.com/assets/colab-badge.svg\" alt=\"Open In Colab\"/></a>"
      ]
    },
    {
      "cell_type": "markdown",
      "source": [
        "# Linear Search Programming\n",
        "## Project: Linear search using Python.\n",
        "## Say list=[1 ,2 ,3, 4, 5, 6, 7, 8, 9, 10]\n",
        "## find the index of target value\n",
        "Prepared by Khalid Hossen"
      ],
      "metadata": {
        "id": "5kdOhygBhbZD"
      }
    },
    {
      "cell_type": "code",
      "execution_count": 33,
      "metadata": {
        "colab": {
          "base_uri": "https://localhost:8080/"
        },
        "id": "JhcE0bAjZf9E",
        "outputId": "da6a518f-5193-4837-a822-fb51acf478e7"
      },
      "outputs": [
        {
          "output_type": "stream",
          "name": "stdout",
          "text": [
            "Enter the number: 9\n",
            "The index value is  8\n"
          ]
        }
      ],
      "source": [
        "def LinearSearchPython(listNumber, number):\n",
        "  for position in range (0, len(listNumber)):\n",
        "    if listNumber[position] == number:\n",
        "      return position\n",
        "  return None\n",
        "\n",
        "# Input the value:\n",
        "listNumber = [1 ,2 ,3, 4, 5, 6, 7, 8, 9, 10]\n",
        "number = float(input(\"Enter the number: \"))\n",
        "\n",
        "# Main Code:\n",
        "indexNumber = LinearSearchPython(listNumber, number)\n",
        "if indexNumber == None:\n",
        "  print(\"The index value is not exit.\")\n",
        "else:\n",
        "  print(\"The index value is \", indexNumber)"
      ]
    },
    {
      "cell_type": "markdown",
      "source": [
        "## When the list has repeating number for example: list=[1 ,2 ,3, 4, 5, 6, 7, 8, 9, 10, 8, 8]"
      ],
      "metadata": {
        "id": "jQ6T8PkehxZ9"
      }
    },
    {
      "cell_type": "code",
      "source": [
        "def LinearSearchPython(listNumber, number):\n",
        "  listNumberReating = []\n",
        "  flag = False\n",
        "  for position in range (0, len(listNumber)):\n",
        "    if listNumber[position] == number:\n",
        "      flag = True\n",
        "      listNumberReating.append(position)\n",
        "  if flag == True:\n",
        "        print(\"\\nThe number is \", number)\n",
        "        print(\"The index position is \", listNumberReating)\n",
        "  else:\n",
        "    print(\"Searched element is not found.\")    \n",
        "\n",
        "# Input the value: # Main Code:\n",
        "listNumber = [1, 2 ,3, 4, 5, 6, 7, 8, 9, 10, 9]\n",
        "number = int(input(\"Enter the number: \"))\n",
        "result = LinearSearchPython(listNumber, number)\n",
        "print(result)\n"
      ],
      "metadata": {
        "colab": {
          "base_uri": "https://localhost:8080/"
        },
        "id": "BC5Y4qroh9eU",
        "outputId": "8554c63a-3b0a-4023-e0e2-4817a5e74467"
      },
      "execution_count": 35,
      "outputs": [
        {
          "output_type": "stream",
          "name": "stdout",
          "text": [
            "Enter the number: 9\n",
            "\n",
            "The number is  9\n",
            "The index position is  [8, 10]\n",
            "None\n"
          ]
        }
      ]
    }
  ]
}