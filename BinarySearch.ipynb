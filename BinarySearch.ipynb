{
  "nbformat": 4,
  "nbformat_minor": 0,
  "metadata": {
    "colab": {
      "provenance": [],
      "authorship_tag": "ABX9TyNHc2VesOqBeC71ZOjuOF0y",
      "include_colab_link": true
    },
    "kernelspec": {
      "name": "python3",
      "display_name": "Python 3"
    },
    "language_info": {
      "name": "python"
    }
  },
  "cells": [
    {
      "cell_type": "markdown",
      "metadata": {
        "id": "view-in-github",
        "colab_type": "text"
      },
      "source": [
        "<a href=\"https://colab.research.google.com/github/Khalid019/Data-Stracture-and-Algorithm/blob/main/BinarySearch.ipynb\" target=\"_parent\"><img src=\"https://colab.research.google.com/assets/colab-badge.svg\" alt=\"Open In Colab\"/></a>"
      ]
    },
    {
      "cell_type": "markdown",
      "source": [
        "# Binary Check:\n"
      ],
      "metadata": {
        "id": "IHgwORrbS9Kq"
      }
    },
    {
      "cell_type": "code",
      "execution_count": 10,
      "metadata": {
        "id": "4zQk9MLMR179",
        "colab": {
          "base_uri": "https://localhost:8080/"
        },
        "outputId": "6884874b-5eb6-4e9d-c743-a810d60619f4"
      },
      "outputs": [
        {
          "output_type": "stream",
          "name": "stdout",
          "text": [
            "The result by binary search is:  6 and the index number is  2 .\n"
          ]
        }
      ],
      "source": [
        "def BinarySearchPython(numberList, targetValue):\n",
        "  firstIndex = 0\n",
        "  lastIndex = len(numberList )\n",
        "  while firstIndex <= lastIndex:\n",
        "    midValue = (firstIndex + lastIndex)//2\n",
        "\n",
        "    if numberList[midValue] == targetValue:\n",
        "      return midValue\n",
        "    elif numberList[midValue] < targetValue:\n",
        "      firstIndex = midValue + 1\n",
        "    else:\n",
        "      lastIndex = midValue - 1\n",
        "\n",
        "  return None\n",
        "\n",
        "# Input:\n",
        "numberList = [1, 3, 6, 7 , 8, 9, 10]\n",
        "targetValue = 6\n",
        "\n",
        "result = BinarySearchPython(numberList, targetValue)\n",
        "if result is None:\n",
        "  print(\"No exist this number\")\n",
        "else:\n",
        "  print(\"The result by binary search is: \", targetValue, \"and the index number is \", result, \".\")  \n"
      ]
    }
  ]
}